{
 "cells": [
  {
   "cell_type": "code",
   "execution_count": 3,
   "id": "87746ffc",
   "metadata": {
    "execution": {
     "iopub.execute_input": "2025-11-01T08:37:09.527992Z",
     "iopub.status.busy": "2025-11-01T08:37:09.527722Z",
     "iopub.status.idle": "2025-11-01T08:37:18.694019Z",
     "shell.execute_reply": "2025-11-01T08:37:18.693082Z",
     "shell.execute_reply.started": "2025-11-01T08:37:09.527972Z"
    },
    "trusted": true
   },
   "outputs": [
    {
     "name": "stdout",
     "output_type": "stream",
     "text": [
      "  company_name  Financial_Year  Bankruptcy_Status  Current_Assets  \\\n",
      "0          C_1          1999.0                  0        511267.0   \n",
      "1          C_1          2000.0                  0        485856.0   \n",
      "2          C_1          2001.0                  0        436656.0   \n",
      "3          C_1          2002.0                  0        396412.0   \n",
      "4          C_1          2003.0                  0        432204.0   \n",
      "\n",
      "   Cost_of_Goods_Sold  Depreciation_Amortization    EBITDA  Inventory  \\\n",
      "0          740998.000                   833107.0  180447.0   18373.00   \n",
      "1             701.854                   713811.0  179987.0   18577.00   \n",
      "2          710199.000                   526477.0  217699.0   22496.00   \n",
      "3             686.621                   496747.0  164658.0   27172.00   \n",
      "4             709.292                   523302.0  248666.0      26.68   \n",
      "\n",
      "   Net_Income  Total_Receivables  ...  Group_78  Group_79  Group_80  Group_81  \\\n",
      "0    70658.00          89031.000  ...     False     False     False     False   \n",
      "1       45.79          64367.000  ...     False     False     False     False   \n",
      "2     4711.00          27207.000  ...     False     False     False     False   \n",
      "3     3573.00          30745.000  ...     False     False     False     False   \n",
      "4    20811.00             47.491  ...     False     False     False     False   \n",
      "\n",
      "   Group_82  Group_83  Group_86  Group_87  Group_89  Group_99  \n",
      "0     False     False     False     False     False     False  \n",
      "1     False     False     False     False     False     False  \n",
      "2     False     False     False     False     False     False  \n",
      "3     False     False     False     False     False     False  \n",
      "4     False     False     False     False     False     False  \n",
      "\n",
      "[5 rows x 104 columns]\n",
      "<class 'pandas.core.frame.DataFrame'>\n",
      "RangeIndex: 62789 entries, 0 to 62788\n",
      "Columns: 104 entries, company_name to Group_99\n",
      "dtypes: bool(83), float64(19), int64(1), object(1)\n",
      "memory usage: 15.0+ MB\n",
      "None\n"
     ]
    }
   ],
   "source": [
    "import numpy as np\n",
    "import pandas as pd\n",
    "from sklearn.model_selection import train_test_split, GridSearchCV, cross_val_score\n",
    "from sklearn.preprocessing import StandardScaler\n",
    "from sklearn.metrics import accuracy_score, precision_score, recall_score, f1_score, classification_report\n",
    "from xgboost import XGBClassifier\n",
    "from lightgbm import LGBMClassifier\n",
    "import warnings\n",
    "warnings.filterwarnings('ignore')\n",
    "\n",
    "df = pd.read_csv('/kaggle/input/encoded-bankruptcy-data/encoded_bankruptcy_data.csv')\n",
    "\n",
    "print(df.head())\n",
    "print(df.info())"
   ]
  },
  {
   "cell_type": "markdown",
   "id": "3e5f3ed2-54b3-443a-a947-09c93af9fb55",
   "metadata": {},
   "source": [
    "## DATA PREPROCESSING"
   ]
  },
  {
   "cell_type": "code",
   "execution_count": 4,
   "id": "f091343a-bbfe-456e-bb1e-1e99a45ff583",
   "metadata": {
    "execution": {
     "iopub.execute_input": "2025-11-01T08:37:18.696195Z",
     "iopub.status.busy": "2025-11-01T08:37:18.695860Z",
     "iopub.status.idle": "2025-11-01T08:37:18.767554Z",
     "shell.execute_reply": "2025-11-01T08:37:18.766337Z",
     "shell.execute_reply.started": "2025-11-01T08:37:18.696166Z"
    },
    "trusted": true
   },
   "outputs": [
    {
     "name": "stdout",
     "output_type": "stream",
     "text": [
      "\n",
      "Train set: 50231 samples\n",
      "Test set: 12558 samples\n",
      "\n",
      "Train target distribution:\n",
      "Bankruptcy_Status\n",
      "0    46869\n",
      "1     3362\n",
      "Name: count, dtype: int64\n",
      "Test target distribution:\n",
      "Bankruptcy_Status\n",
      "0    11717\n",
      "1      841\n",
      "Name: count, dtype: int64\n"
     ]
    }
   ],
   "source": [
    "# Prepare features and target\n",
    "X = df.drop(['company_name', 'Bankruptcy_Status'], axis=1)\n",
    "y = df['Bankruptcy_Status']\n",
    "\n",
    "X_train, X_test, y_train, y_test = train_test_split(\n",
    "    X, y, test_size=0.2, random_state=42, stratify=y\n",
    ")\n",
    "\n",
    "print(f\"\\nTrain set: {X_train.shape[0]} samples\")\n",
    "print(f\"Test set: {X_test.shape[0]} samples\")\n",
    "print(f\"\\nTrain target distribution:\\n{y_train.value_counts()}\")\n",
    "print(f\"Test target distribution:\\n{y_test.value_counts()}\")"
   ]
  },
  {
   "cell_type": "markdown",
   "id": "764512db-6281-4bfc-9371-f948cddf37c9",
   "metadata": {},
   "source": [
    "## FEATURE ENGG"
   ]
  },
  {
   "cell_type": "code",
   "execution_count": 5,
   "id": "dfa3e395-bead-48b4-a7a1-1c98bc1aaf47",
   "metadata": {
    "execution": {
     "iopub.execute_input": "2025-11-01T08:37:18.769123Z",
     "iopub.status.busy": "2025-11-01T08:37:18.768711Z",
     "iopub.status.idle": "2025-11-01T08:37:19.222162Z",
     "shell.execute_reply": "2025-11-01T08:37:19.220840Z",
     "shell.execute_reply.started": "2025-11-01T08:37:18.769092Z"
    },
    "trusted": true
   },
   "outputs": [
    {
     "name": "stdout",
     "output_type": "stream",
     "text": [
      "\n",
      "Scaled train set - Mean: -0.000000, Std: 1.000000\n",
      "Scaled test set - Mean: -0.000614, Std: 0.986448\n"
     ]
    }
   ],
   "source": [
    "# Scale features\n",
    "scaler = StandardScaler()\n",
    "X_train_scaled = scaler.fit_transform(X_train)\n",
    "X_test_scaled = scaler.transform(X_test)\n",
    "\n",
    "print(f\"\\nScaled train set - Mean: {X_train_scaled.mean():.6f}, Std: {X_train_scaled.std():.6f}\")\n",
    "print(f\"Scaled test set - Mean: {X_test_scaled.mean():.6f}, Std: {X_test_scaled.std():.6f}\")"
   ]
  },
  {
   "cell_type": "markdown",
   "id": "02dc5c10-3281-4dca-b370-ca4e603bb37b",
   "metadata": {},
   "source": [
    "## OPTIMIZATION FOR IMBALANCED DATA"
   ]
  },
  {
   "cell_type": "code",
   "execution_count": 6,
   "id": "053e2dfc-b680-4daf-bae3-e271642161d9",
   "metadata": {
    "execution": {
     "iopub.execute_input": "2025-11-01T08:37:19.223588Z",
     "iopub.status.busy": "2025-11-01T08:37:19.223291Z",
     "iopub.status.idle": "2025-11-01T08:37:19.231741Z",
     "shell.execute_reply": "2025-11-01T08:37:19.230561Z",
     "shell.execute_reply.started": "2025-11-01T08:37:19.223566Z"
    },
    "trusted": true
   },
   "outputs": [
    {
     "name": "stdout",
     "output_type": "stream",
     "text": [
      "\n",
      "Class imbalance ratio (scale_pos_weight): 13.94\n"
     ]
    }
   ],
   "source": [
    "# Handle imbalance using scale_pos_weight for XGBoost and class_weight for LightGBM\n",
    "scale_pos_weight = y_train.value_counts()[0] / y_train.value_counts()[1]\n",
    "print(f\"\\nClass imbalance ratio (scale_pos_weight): {scale_pos_weight:.2f}\")"
   ]
  },
  {
   "cell_type": "markdown",
   "id": "8570c951-a9c1-4e49-8e60-ac7bfc1cdb90",
   "metadata": {},
   "source": [
    "## XGBOOST MODEL TRAINING "
   ]
  },
  {
   "cell_type": "code",
   "execution_count": 7,
   "id": "3cca55c0-cd81-417e-9bc3-c76e455b131b",
   "metadata": {
    "execution": {
     "iopub.execute_input": "2025-11-01T08:37:19.234689Z",
     "iopub.status.busy": "2025-11-01T08:37:19.234389Z",
     "iopub.status.idle": "2025-11-01T08:48:07.053727Z",
     "shell.execute_reply": "2025-11-01T08:48:07.052981Z",
     "shell.execute_reply.started": "2025-11-01T08:37:19.234666Z"
    },
    "trusted": true
   },
   "outputs": [
    {
     "name": "stdout",
     "output_type": "stream",
     "text": [
      "\n",
      "Fitting the XGBoost model using GridSearchCV......\n",
      "Fitting 5 folds for each of 108 candidates, totalling 540 fits\n",
      "\n",
      "Best XGBoost params: {'learning_rate': 0.2, 'max_depth': 7, 'min_child_weight': 5, 'n_estimators': 200, 'subsample': 1.0}\n",
      "Best XGBoost CV F1 score: 0.4118\n"
     ]
    }
   ],
   "source": [
    "# XGBoost: GridSearchCV\n",
    "xgb = XGBClassifier(\n",
    "    objective='binary:logistic',\n",
    "    scale_pos_weight=scale_pos_weight,\n",
    "    use_label_encoder=False,\n",
    "    eval_metric='logloss',\n",
    "    random_state=42,\n",
    "    tree_method='hist'  # Faster training\n",
    ")\n",
    "\n",
    "xgb_params = {\n",
    "    'n_estimators': [100, 200],\n",
    "    'max_depth': [3, 5, 7],\n",
    "    'learning_rate': [0.01, 0.1, 0.2],\n",
    "    'subsample': [0.8, 1.0],\n",
    "    'min_child_weight': [1, 3, 5]  # Added to prevent overfitting\n",
    "}\n",
    "\n",
    "\n",
    "print(\"\\nFitting the XGBoost model using GridSearchCV......\")\n",
    "xgb_grid = GridSearchCV(\n",
    "    xgb, xgb_params, cv=5, scoring='f1', n_jobs=-1, verbose=1\n",
    ")\n",
    "xgb_grid.fit(X_train_scaled, y_train)\n",
    "xgb_best = xgb_grid.best_estimator_\n",
    "\n",
    "print(f\"\\nBest XGBoost params: {xgb_grid.best_params_}\")\n",
    "print(f\"Best XGBoost CV F1 score: {xgb_grid.best_score_:.4f}\")"
   ]
  },
  {
   "cell_type": "markdown",
   "id": "578ee8b5-b0a7-449e-8b91-7d88dd65e615",
   "metadata": {},
   "source": [
    "## LightGBM Model Training"
   ]
  },
  {
   "cell_type": "code",
   "execution_count": 8,
   "id": "ac26ef1d-d512-4ad0-ac4c-3e4a0feb52ec",
   "metadata": {
    "execution": {
     "iopub.execute_input": "2025-11-01T08:48:07.054626Z",
     "iopub.status.busy": "2025-11-01T08:48:07.054379Z",
     "iopub.status.idle": "2025-11-01T09:47:41.956606Z",
     "shell.execute_reply": "2025-11-01T09:47:41.955365Z",
     "shell.execute_reply.started": "2025-11-01T08:48:07.054603Z"
    },
    "trusted": true
   },
   "outputs": [
    {
     "name": "stdout",
     "output_type": "stream",
     "text": [
      "\n",
      "Fitting LightGBM GridSearchCV...\n",
      "Fitting 5 folds for each of 486 candidates, totalling 2430 fits\n",
      "\n",
      "Best LightGBM params: {'feature_fraction': 0.9, 'learning_rate': 0.2, 'max_depth': 7, 'min_child_samples': 20, 'n_estimators': 200, 'num_leaves': 50}\n",
      "Best LightGBM CV F1 score: 0.4081\n"
     ]
    }
   ],
   "source": [
    "\n",
    "# LightGBM: GridSearchCV\n",
    "lgbm = LGBMClassifier(\n",
    "    class_weight='balanced',\n",
    "    random_state=42,\n",
    "    force_col_wise=True,  # Fix for auto-choosing warnings\n",
    "    verbose=-1,  # Suppress iteration logs\n",
    "    min_child_samples=20,  # Prevent overfitting\n",
    "    min_data_in_leaf=20\n",
    ")\n",
    "\n",
    "lgbm_params = {\n",
    "    'n_estimators': [100, 200],\n",
    "    'max_depth': [3, 5, 7],\n",
    "    'learning_rate': [0.01, 0.1, 0.2],\n",
    "    'num_leaves': [15, 31, 50],  # Adjusted range\n",
    "    'min_child_samples': [20, 30, 40],  # Added\n",
    "    'feature_fraction': [0.8, 0.9, 1.0]  # Added for regularization\n",
    "}\n",
    "\n",
    "lgbm_grid = GridSearchCV(\n",
    "    lgbm, lgbm_params, cv=5, scoring='f1', n_jobs=-1, verbose=1\n",
    ")\n",
    "\n",
    "print(\"\\nFitting LightGBM GridSearchCV...\")\n",
    "lgbm_grid.fit(X_train_scaled, y_train)\n",
    "lgbm_best = lgbm_grid.best_estimator_\n",
    "\n",
    "print(f\"\\nBest LightGBM params: {lgbm_grid.best_params_}\")\n",
    "print(f\"Best LightGBM CV F1 score: {lgbm_grid.best_score_:.4f}\")"
   ]
  },
  {
   "cell_type": "markdown",
   "id": "13cb752a-957f-43cd-842d-37cbbb8331cb",
   "metadata": {},
   "source": [
    "## Cross Validation (Metric => F1-Score) "
   ]
  },
  {
   "cell_type": "code",
   "execution_count": 9,
   "id": "e381961a-88c7-46fe-9186-7b908200dbac",
   "metadata": {
    "execution": {
     "iopub.execute_input": "2025-11-01T09:47:41.958178Z",
     "iopub.status.busy": "2025-11-01T09:47:41.957870Z",
     "iopub.status.idle": "2025-11-01T09:48:02.147702Z",
     "shell.execute_reply": "2025-11-01T09:48:02.146471Z",
     "shell.execute_reply.started": "2025-11-01T09:47:41.958154Z"
    },
    "trusted": true
   },
   "outputs": [
    {
     "name": "stdout",
     "output_type": "stream",
     "text": [
      "\n",
      "XGBoost CV F1: 0.4118 (+/- 0.0217)\n",
      "LightGBM CV F1: 0.4081 (+/- 0.0245)\n"
     ]
    }
   ],
   "source": [
    "# Cross-validation scores\n",
    "xgb_cv_f1 = cross_val_score(xgb_best, X_train_scaled, y_train, cv=5, scoring='f1')\n",
    "lgbm_cv_f1 = cross_val_score(lgbm_best, X_train_scaled, y_train, cv=5, scoring='f1')\n",
    "\n",
    "print(f\"\\nXGBoost CV F1: {xgb_cv_f1.mean():.4f} (+/- {xgb_cv_f1.std() * 2:.4f})\")\n",
    "print(f\"LightGBM CV F1: {lgbm_cv_f1.mean():.4f} (+/- {lgbm_cv_f1.std() * 2:.4f})\")"
   ]
  },
  {
   "cell_type": "markdown",
   "id": "e88d5ca8-e810-4d0c-80c0-6038b2eb8540",
   "metadata": {},
   "source": [
    "## CHECKING THE MODELS ON TEST DATA"
   ]
  },
  {
   "cell_type": "code",
   "execution_count": 10,
   "id": "1ce51db0",
   "metadata": {
    "execution": {
     "iopub.execute_input": "2025-11-01T09:48:02.148969Z",
     "iopub.status.busy": "2025-11-01T09:48:02.148710Z",
     "iopub.status.idle": "2025-11-01T09:48:02.156086Z",
     "shell.execute_reply": "2025-11-01T09:48:02.154803Z",
     "shell.execute_reply.started": "2025-11-01T09:48:02.148950Z"
    },
    "trusted": true
   },
   "outputs": [],
   "source": [
    "# Evaluation on test set\n",
    "\n",
    "def evaluate(model, X_test, y_test, model_name):\n",
    "    print(\"\\n\" + \"=\" * 80)\n",
    "    print(f\"{model_name} TEST SET EVALUATION\")\n",
    "    print(\"=\" * 80)\n",
    "    \n",
    "    y_pred = model.predict(X_test)\n",
    "    \n",
    "    print(f\"\\nAccuracy:  {accuracy_score(y_test, y_pred):.4f}\")\n",
    "    print(f\"Precision: {precision_score(y_test, y_pred, zero_division=0):.4f}\")\n",
    "    print(f\"Recall:    {recall_score(y_test, y_pred, zero_division=0):.4f}\")\n",
    "    print(f\"F1 Score:  {f1_score(y_test, y_pred, zero_division=0):.4f}\")\n",
    "    \n",
    "    print(\"\\nClassification Report:\")\n",
    "    print(classification_report(y_test, y_pred, zero_division=0))"
   ]
  },
  {
   "cell_type": "markdown",
   "id": "93d01454-9f1e-48fd-8f39-0f35b85cb145",
   "metadata": {},
   "source": [
    "## SAVING MODELS"
   ]
  },
  {
   "cell_type": "code",
   "execution_count": 11,
   "id": "0264210f-d05b-4448-aa7f-396730711de2",
   "metadata": {
    "execution": {
     "iopub.execute_input": "2025-11-01T09:48:02.157705Z",
     "iopub.status.busy": "2025-11-01T09:48:02.157338Z",
     "iopub.status.idle": "2025-11-01T09:48:02.205103Z",
     "shell.execute_reply": "2025-11-01T09:48:02.203967Z",
     "shell.execute_reply.started": "2025-11-01T09:48:02.157674Z"
    },
    "trusted": true
   },
   "outputs": [
    {
     "name": "stdout",
     "output_type": "stream",
     "text": [
      "Models saved successfully!\n"
     ]
    }
   ],
   "source": [
    "import joblib\n",
    "\n",
    "# Save both trained models\n",
    "joblib.dump(xgb_best, \"xgb_best_model.pkl\")\n",
    "joblib.dump(lgbm_best, \"lgbm_best_model.pkl\")\n",
    "\n",
    "print(\"Models saved successfully!\")"
   ]
  },
  {
   "cell_type": "code",
   "execution_count": 12,
   "id": "6e546b65-724d-48ac-b8c1-503958100c66",
   "metadata": {
    "execution": {
     "iopub.execute_input": "2025-11-01T09:48:02.206665Z",
     "iopub.status.busy": "2025-11-01T09:48:02.206326Z",
     "iopub.status.idle": "2025-11-01T09:48:02.229241Z",
     "shell.execute_reply": "2025-11-01T09:48:02.228345Z",
     "shell.execute_reply.started": "2025-11-01T09:48:02.206635Z"
    },
    "trusted": true
   },
   "outputs": [
    {
     "name": "stdout",
     "output_type": "stream",
     "text": [
      "Models loaded successfully!\n"
     ]
    }
   ],
   "source": [
    "# Load the trained models\n",
    "xgb_best = joblib.load(\"xgb_best_model.pkl\")\n",
    "lgbm_best = joblib.load(\"lgbm_best_model.pkl\")\n",
    "\n",
    "print(\"Models loaded successfully!\")"
   ]
  },
  {
   "cell_type": "code",
   "execution_count": 13,
   "id": "d1a6a89b-a8ac-4d55-aeff-0e03718c47cd",
   "metadata": {
    "execution": {
     "iopub.execute_input": "2025-11-01T09:48:02.230779Z",
     "iopub.status.busy": "2025-11-01T09:48:02.230410Z",
     "iopub.status.idle": "2025-11-01T09:48:02.510396Z",
     "shell.execute_reply": "2025-11-01T09:48:02.509399Z",
     "shell.execute_reply.started": "2025-11-01T09:48:02.230752Z"
    },
    "trusted": true
   },
   "outputs": [
    {
     "name": "stdout",
     "output_type": "stream",
     "text": [
      "\n",
      "================================================================================\n",
      "XGBOOST TEST SET EVALUATION\n",
      "================================================================================\n",
      "\n",
      "Accuracy:  0.9051\n",
      "Precision: 0.3669\n",
      "Recall:    0.5755\n",
      "F1 Score:  0.4481\n",
      "\n",
      "Classification Report:\n",
      "              precision    recall  f1-score   support\n",
      "\n",
      "           0       0.97      0.93      0.95     11717\n",
      "           1       0.37      0.58      0.45       841\n",
      "\n",
      "    accuracy                           0.91     12558\n",
      "   macro avg       0.67      0.75      0.70     12558\n",
      "weighted avg       0.93      0.91      0.91     12558\n",
      "\n",
      "\n",
      "================================================================================\n",
      "LIGHTGBM TEST SET EVALUATION\n",
      "================================================================================\n",
      "\n",
      "Accuracy:  0.8946\n",
      "Precision: 0.3378\n",
      "Recall:    0.5981\n",
      "F1 Score:  0.4318\n",
      "\n",
      "Classification Report:\n",
      "              precision    recall  f1-score   support\n",
      "\n",
      "           0       0.97      0.92      0.94     11717\n",
      "           1       0.34      0.60      0.43       841\n",
      "\n",
      "    accuracy                           0.89     12558\n",
      "   macro avg       0.65      0.76      0.69     12558\n",
      "weighted avg       0.93      0.89      0.91     12558\n",
      "\n"
     ]
    }
   ],
   "source": [
    "evaluate(xgb_best, X_test_scaled, y_test, \"XGBOOST\")\n",
    "evaluate(lgbm_best, X_test_scaled, y_test, \"LIGHTGBM\")"
   ]
  }
 ],
 "metadata": {
  "kaggle": {
   "accelerator": "none",
   "dataSources": [
    {
     "datasetId": 8622898,
     "sourceId": 13573749,
     "sourceType": "datasetVersion"
    }
   ],
   "dockerImageVersionId": 31153,
   "isGpuEnabled": false,
   "isInternetEnabled": false,
   "language": "python",
   "sourceType": "notebook"
  },
  "kernelspec": {
   "display_name": "Python 3",
   "language": "python",
   "name": "python3"
  },
  "language_info": {
   "codemirror_mode": {
    "name": "ipython",
    "version": 3
   },
   "file_extension": ".py",
   "mimetype": "text/x-python",
   "name": "python",
   "nbconvert_exporter": "python",
   "pygments_lexer": "ipython3",
   "version": "3.10.0"
  }
 },
 "nbformat": 4,
 "nbformat_minor": 5
}
