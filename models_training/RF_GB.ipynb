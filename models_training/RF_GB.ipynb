{
 "cells": [
  {
   "cell_type": "code",
   "execution_count": 1,
   "id": "a58f6b0c-7aff-4c5e-932e-4026d59f4d7a",
   "metadata": {},
   "outputs": [
    {
     "name": "stdout",
     "output_type": "stream",
     "text": [
      "  company_name  Financial_Year  Bankruptcy_Status  Current_Assets  \\\n",
      "0          C_1          1999.0                  0        511267.0   \n",
      "1          C_1          2000.0                  0        485856.0   \n",
      "2          C_1          2001.0                  0        436656.0   \n",
      "3          C_1          2002.0                  0        396412.0   \n",
      "4          C_1          2003.0                  0        432204.0   \n",
      "\n",
      "   Cost_of_Goods_Sold  Depreciation_Amortization    EBITDA  Inventory  \\\n",
      "0          740998.000                   833107.0  180447.0   18373.00   \n",
      "1             701.854                   713811.0  179987.0   18577.00   \n",
      "2          710199.000                   526477.0  217699.0   22496.00   \n",
      "3             686.621                   496747.0  164658.0   27172.00   \n",
      "4             709.292                   523302.0  248666.0      26.68   \n",
      "\n",
      "   Net_Income  Total_Receivables  ...  Group_78  Group_79  Group_80  Group_81  \\\n",
      "0    70658.00          89031.000  ...     False     False     False     False   \n",
      "1       45.79          64367.000  ...     False     False     False     False   \n",
      "2     4711.00          27207.000  ...     False     False     False     False   \n",
      "3     3573.00          30745.000  ...     False     False     False     False   \n",
      "4    20811.00             47.491  ...     False     False     False     False   \n",
      "\n",
      "   Group_82  Group_83  Group_86  Group_87  Group_89  Group_99  \n",
      "0     False     False     False     False     False     False  \n",
      "1     False     False     False     False     False     False  \n",
      "2     False     False     False     False     False     False  \n",
      "3     False     False     False     False     False     False  \n",
      "4     False     False     False     False     False     False  \n",
      "\n",
      "[5 rows x 104 columns]\n",
      "<class 'pandas.core.frame.DataFrame'>\n",
      "RangeIndex: 62789 entries, 0 to 62788\n",
      "Columns: 104 entries, company_name to Group_99\n",
      "dtypes: bool(83), float64(19), int64(1), object(1)\n",
      "memory usage: 15.0+ MB\n",
      "None\n"
     ]
    }
   ],
   "source": [
    "import pandas as pd\n",
    "from sklearn.model_selection import train_test_split\n",
    "from sklearn.preprocessing import StandardScaler\n",
    "from sklearn.ensemble import RandomForestClassifier, GradientBoostingClassifier\n",
    "from sklearn.metrics import accuracy_score, precision_score, recall_score, f1_score\n",
    "\n",
    "# Load the dataset\n",
    "df = pd.read_csv('../dataset/encoded_bankruptcy_data.csv')\n",
    "\n",
    "# Display a quick look at the data\n",
    "print(df.head())\n",
    "print(df.info())"
   ]
  },
  {
   "cell_type": "code",
   "execution_count": 4,
   "id": "aa318985-0632-498c-bd94-ec60f28b23fc",
   "metadata": {},
   "outputs": [],
   "source": [
    "# Drop the 'company_name' column as it's just an identifier\n",
    "df = df.drop(columns=['company_name'])\n",
    "\n",
    "# Define features (X) and the target (y)\n",
    "X = df.drop('Bankruptcy_Status', axis=1)\n",
    "y = df['Bankruptcy_Status']\n",
    "\n",
    "# Split the data into training and testing sets (80% train, 20% test)\n",
    "# 'stratify=y' is important for imbalanced datasets to ensure both\n",
    "# train and test sets have a similar proportion of bankrupt companies.\n",
    "X_train, X_test, y_train, y_test = train_test_split(X, y, test_size=0.2, random_state=42, stratify=y)\n",
    "\n",
    "# Standardize the features\n",
    "# This scales all features to have a mean of 0 and a standard deviation of 1\n",
    "scaler = StandardScaler()\n",
    "X_train_scaled = scaler.fit_transform(X_train)\n",
    "X_test_scaled = scaler.transform(X_test)"
   ]
  },
  {
   "cell_type": "code",
   "execution_count": 5,
   "id": "c02a3eb7-fb18-4c14-9dba-cd78855ecbac",
   "metadata": {},
   "outputs": [
    {
     "name": "stdout",
     "output_type": "stream",
     "text": [
      "Random Forest model trained successfully.\n",
      "Gradient Boosting model trained successfully.\n"
     ]
    }
   ],
   "source": [
    "# 1. Train Random Forest\n",
    "rf_model = RandomForestClassifier(random_state=42)\n",
    "rf_model.fit(X_train_scaled, y_train)\n",
    "\n",
    "print(\"Random Forest model trained successfully.\")\n",
    "\n",
    "# 2. Train Gradient Boosting\n",
    "gb_model = GradientBoostingClassifier(random_state=42)\n",
    "gb_model.fit(X_train_scaled, y_train)\n",
    "\n",
    "print(\"Gradient Boosting model trained successfully.\")"
   ]
  },
  {
   "cell_type": "code",
   "execution_count": 6,
   "id": "8268d149-6cbc-4b8c-99f8-299080ea04cf",
   "metadata": {},
   "outputs": [
    {
     "name": "stdout",
     "output_type": "stream",
     "text": [
      "\n",
      "--- Random Forest Classifier Metrics ---\n",
      "Accuracy: 0.9375\n",
      "Precision: 0.9000\n",
      "Recall: 0.0749\n",
      "F1-score: 0.1383\n",
      "\n",
      "--- Gradient Boosting Classifier Metrics ---\n",
      "Accuracy: 0.9354\n",
      "Precision: 0.7083\n",
      "Recall: 0.0606\n",
      "F1-score: 0.1117\n"
     ]
    }
   ],
   "source": [
    "# Get predictions from both models\n",
    "y_pred_rf = rf_model.predict(X_test_scaled)\n",
    "y_pred_gb = gb_model.predict(X_test_scaled)\n",
    "\n",
    "# --- Evaluate Random Forest ---\n",
    "print(\"\\n--- Random Forest Classifier Metrics ---\")\n",
    "print(f\"Accuracy: {accuracy_score(y_test, y_pred_rf):.4f}\")\n",
    "print(f\"Precision: {precision_score(y_test, y_pred_rf):.4f}\")\n",
    "print(f\"Recall: {recall_score(y_test, y_pred_rf):.4f}\")\n",
    "print(f\"F1-score: {f1_score(y_test, y_pred_rf):.4f}\")\n",
    "\n",
    "# --- Evaluate Gradient Boosting ---\n",
    "print(\"\\n--- Gradient Boosting Classifier Metrics ---\")\n",
    "print(f\"Accuracy: {accuracy_score(y_test, y_pred_gb):.4f}\")\n",
    "print(f\"Precision: {precision_score(y_test, y_pred_gb):.4f}\")\n",
    "print(f\"Recall: {recall_score(y_test, y_pred_gb):.4f}\")\n",
    "print(f\"F1-score: {f1_score(y_test, y_pred_gb):.4f}\")"
   ]
  },
  {
   "cell_type": "code",
   "execution_count": 10,
   "id": "6b303410-dd19-4f0d-ac8b-5a98d0278d2a",
   "metadata": {},
   "outputs": [],
   "source": [
    "import pandas as pd\n",
    "from sklearn.model_selection import train_test_split\n",
    "from sklearn.preprocessing import StandardScaler\n",
    "from sklearn.ensemble import RandomForestClassifier, GradientBoostingClassifier\n",
    "from sklearn.metrics import accuracy_score, precision_score, recall_score, f1_score\n",
    "from imblearn.over_sampling import SMOTE  # <-- The new import\n",
    "\n",
    "# Load the dataset\n",
    "df = pd.read_csv('encoded_bankruptcy_data.csv')\n",
    "\n",
    "# Drop the 'company_name' column as it's just an identifier\n",
    "df = df.drop(columns=['company_name'])"
   ]
  },
  {
   "cell_type": "code",
   "execution_count": 8,
   "id": "c7e73540-3516-43c6-bc22-2a2fc5e9cbfe",
   "metadata": {},
   "outputs": [
    {
     "name": "stdout",
     "output_type": "stream",
     "text": [
      "Collecting imblearn\n",
      "  Downloading imblearn-0.0-py2.py3-none-any.whl.metadata (355 bytes)\n",
      "Collecting imbalanced-learn (from imblearn)\n",
      "  Downloading imbalanced_learn-0.14.0-py3-none-any.whl.metadata (8.8 kB)\n",
      "Requirement already satisfied: numpy<3,>=1.25.2 in c:\\users\\abhinav\\appdata\\local\\programs\\python\\python311\\lib\\site-packages (from imbalanced-learn->imblearn) (2.3.3)\n",
      "Requirement already satisfied: scipy<2,>=1.11.4 in c:\\users\\abhinav\\appdata\\local\\programs\\python\\python311\\lib\\site-packages (from imbalanced-learn->imblearn) (1.16.2)\n",
      "Requirement already satisfied: scikit-learn<2,>=1.4.2 in c:\\users\\abhinav\\appdata\\local\\programs\\python\\python311\\lib\\site-packages (from imbalanced-learn->imblearn) (1.7.2)\n",
      "Requirement already satisfied: joblib<2,>=1.2.0 in c:\\users\\abhinav\\appdata\\local\\programs\\python\\python311\\lib\\site-packages (from imbalanced-learn->imblearn) (1.5.2)\n",
      "Requirement already satisfied: threadpoolctl<4,>=2.0.0 in c:\\users\\abhinav\\appdata\\local\\programs\\python\\python311\\lib\\site-packages (from imbalanced-learn->imblearn) (3.6.0)\n",
      "Downloading imblearn-0.0-py2.py3-none-any.whl (1.9 kB)\n",
      "Downloading imbalanced_learn-0.14.0-py3-none-any.whl (239 kB)\n",
      "Installing collected packages: imbalanced-learn, imblearn\n",
      "\n",
      "   ---------------------------------------- 0/2 [imbalanced-learn]\n",
      "   ---------------------------------------- 0/2 [imbalanced-learn]\n",
      "   ---------------------------------------- 0/2 [imbalanced-learn]\n",
      "   ---------------------------------------- 0/2 [imbalanced-learn]\n",
      "   ---------------------------------------- 0/2 [imbalanced-learn]\n",
      "   ---------------------------------------- 0/2 [imbalanced-learn]\n",
      "   ---------------------------------------- 0/2 [imbalanced-learn]\n",
      "   ---------------------------------------- 0/2 [imbalanced-learn]\n",
      "   ---------------------------------------- 0/2 [imbalanced-learn]\n",
      "   ---------------------------------------- 0/2 [imbalanced-learn]\n",
      "   ---------------------------------------- 0/2 [imbalanced-learn]\n",
      "   ---------------------------------------- 0/2 [imbalanced-learn]\n",
      "   ---------------------------------------- 0/2 [imbalanced-learn]\n",
      "   ---------------------------------------- 0/2 [imbalanced-learn]\n",
      "   ---------------------------------------- 0/2 [imbalanced-learn]\n",
      "   ---------------------------------------- 0/2 [imbalanced-learn]\n",
      "   ---------------------------------------- 0/2 [imbalanced-learn]\n",
      "   ---------------------------------------- 0/2 [imbalanced-learn]\n",
      "   ---------------------------------------- 2/2 [imblearn]\n",
      "\n",
      "Successfully installed imbalanced-learn-0.14.0 imblearn-0.0\n",
      "Note: you may need to restart the kernel to use updated packages.\n"
     ]
    },
    {
     "name": "stderr",
     "output_type": "stream",
     "text": [
      "\n",
      "[notice] A new release of pip is available: 25.2 -> 25.3\n",
      "[notice] To update, run: python.exe -m pip install --upgrade pip\n"
     ]
    }
   ],
   "source": [
    "pip install imblearn\n"
   ]
  },
  {
   "cell_type": "code",
   "execution_count": 11,
   "id": "2e979cab-593d-4439-9294-9bb3e87a0ba5",
   "metadata": {},
   "outputs": [],
   "source": [
    "import pandas as pd\n",
    "from sklearn.model_selection import train_test_split\n",
    "from sklearn.preprocessing import StandardScaler\n",
    "from sklearn.ensemble import RandomForestClassifier, GradientBoostingClassifier\n",
    "from sklearn.metrics import accuracy_score, precision_score, recall_score, f1_score\n",
    "from imblearn.over_sampling import SMOTE  # <-- The new import\n",
    "\n",
    "# Load the dataset\n",
    "df = pd.read_csv('encoded_bankruptcy_data.csv')\n",
    "\n",
    "# Drop the 'company_name' column as it's just an identifier\n",
    "df = df.drop(columns=['company_name'])"
   ]
  },
  {
   "cell_type": "code",
   "execution_count": 12,
   "id": "6cb1d865-820d-4eb0-82f6-97bd9922ef31",
   "metadata": {},
   "outputs": [
    {
     "name": "stdout",
     "output_type": "stream",
     "text": [
      "Original training set shape: (50231, 102)\n"
     ]
    }
   ],
   "source": [
    "# Define features (X) and the target (y)\n",
    "X = df.drop('Bankruptcy_Status', axis=1)\n",
    "y = df['Bankruptcy_Status']\n",
    "\n",
    "# Split the data into training and testing sets\n",
    "X_train, X_test, y_train, y_test = train_test_split(X, y, test_size=0.2, random_state=42, stratify=y)\n",
    "\n",
    "# Standardize the features\n",
    "scaler = StandardScaler()\n",
    "X_train_scaled = scaler.fit_transform(X_train)\n",
    "X_test_scaled = scaler.transform(X_test)\n",
    "\n",
    "print(f\"Original training set shape: {X_train_scaled.shape}\")"
   ]
  },
  {
   "cell_type": "code",
   "execution_count": 13,
   "id": "d928a041-0219-4695-b763-7794de7858a0",
   "metadata": {},
   "outputs": [
    {
     "name": "stdout",
     "output_type": "stream",
     "text": [
      "Resampled (SMOTE) training set shape: (93738, 102)\n",
      "Original y_train distribution:\n",
      "Bankruptcy_Status\n",
      "0    46869\n",
      "1     3362\n",
      "Name: count, dtype: int64\n",
      "Resampled y_train distribution:\n",
      "Bankruptcy_Status\n",
      "0    46869\n",
      "1    46869\n",
      "Name: count, dtype: int64\n"
     ]
    }
   ],
   "source": [
    "# Initialize SMOTE\n",
    "smote = SMOTE(random_state=42)\n",
    "\n",
    "# Apply SMOTE to the training data\n",
    "# This creates new synthetic samples for the minority class\n",
    "X_train_resampled, y_train_resampled = smote.fit_resample(X_train_scaled, y_train)\n",
    "\n",
    "print(f\"Resampled (SMOTE) training set shape: {X_train_resampled.shape}\")\n",
    "print(f\"Original y_train distribution:\\n{y_train.value_counts()}\")\n",
    "print(f\"Resampled y_train distribution:\\n{y_train_resampled.value_counts()}\")"
   ]
  },
  {
   "cell_type": "code",
   "execution_count": 14,
   "id": "9d319119-73f0-4104-802d-c646441e95ed",
   "metadata": {},
   "outputs": [
    {
     "name": "stdout",
     "output_type": "stream",
     "text": [
      "\n",
      "Random Forest model trained successfully on SMOTE data.\n",
      "Gradient Boosting model trained successfully on SMOTE data.\n"
     ]
    }
   ],
   "source": [
    "# 1. Train Random Forest on SMOTE data\n",
    "rf_model = RandomForestClassifier(random_state=42)\n",
    "rf_model.fit(X_train_resampled, y_train_resampled)\n",
    "print(\"\\nRandom Forest model trained successfully on SMOTE data.\")\n",
    "\n",
    "# 2. Train Gradient Boosting on SMOTE data\n",
    "gb_model = GradientBoostingClassifier(random_state=42)\n",
    "gb_model.fit(X_train_resampled, y_train_resampled)\n",
    "print(\"Gradient Boosting model trained successfully on SMOTE data.\")"
   ]
  },
  {
   "cell_type": "code",
   "execution_count": 15,
   "id": "7d888461-f0da-4433-98ad-a4d8fc0e27af",
   "metadata": {},
   "outputs": [
    {
     "name": "stdout",
     "output_type": "stream",
     "text": [
      "\n",
      "--- Random Forest (with SMOTE) ---\n",
      "Accuracy: 0.9154\n",
      "Precision: 0.3328\n",
      "Recall: 0.2616\n",
      "F1-score: 0.2929\n",
      "\n",
      "--- Gradient Boosting (with SMOTE) ---\n",
      "Accuracy: 0.7919\n",
      "Precision: 0.1550\n",
      "Recall: 0.4732\n",
      "F1-score: 0.2335\n"
     ]
    }
   ],
   "source": [
    "# Get predictions from both models\n",
    "y_pred_rf = rf_model.predict(X_test_scaled)\n",
    "y_pred_gb = gb_model.predict(X_test_scaled)\n",
    "\n",
    "# --- Evaluate Random Forest (after SMOTE) ---\n",
    "print(\"\\n--- Random Forest (with SMOTE) ---\")\n",
    "print(f\"Accuracy: {accuracy_score(y_test, y_pred_rf):.4f}\")\n",
    "print(f\"Precision: {precision_score(y_test, y_pred_rf):.4f}\")\n",
    "print(f\"Recall: {recall_score(y_test, y_pred_rf):.4f}\")\n",
    "print(f\"F1-score: {f1_score(y_test, y_pred_rf):.4f}\")\n",
    "\n",
    "# --- Evaluate Gradient Boosting (after SMOTE) ---\n",
    "print(\"\\n--- Gradient Boosting (with SMOTE) ---\")\n",
    "print(f\"Accuracy: {accuracy_score(y_test, y_pred_gb):.4f}\")\n",
    "print(f\"Precision: {precision_score(y_test, y_pred_gb):.4f}\")\n",
    "print(f\"Recall: {recall_score(y_test, y_pred_gb):.4f}\")\n",
    "print(f\"F1-score: {f1_score(y_test, y_pred_gb):.4f}\")"
   ]
  },
  {
   "cell_type": "code",
   "execution_count": null,
   "id": "a5dd9861-7b5c-4a01-b626-89daf4d09583",
   "metadata": {},
   "outputs": [],
   "source": []
  }
 ],
 "metadata": {
  "kernelspec": {
   "display_name": "Python 3",
   "language": "python",
   "name": "python3"
  },
  "language_info": {
   "codemirror_mode": {
    "name": "ipython",
    "version": 3
   },
   "file_extension": ".py",
   "mimetype": "text/x-python",
   "name": "python",
   "nbconvert_exporter": "python",
   "pygments_lexer": "ipython3",
   "version": "3.11.3"
  }
 },
 "nbformat": 4,
 "nbformat_minor": 5
}
